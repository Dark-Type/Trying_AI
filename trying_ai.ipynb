{
 "nbformat": 4,
 "nbformat_minor": 0,
 "metadata": {
  "colab": {
   "provenance": []
  },
  "kernelspec": {
   "name": "python3",
   "display_name": "Python 3"
  },
  "language_info": {
   "name": "python"
  }
 },
 "cells": [
  {
   "cell_type": "code",
   "execution_count": null,
   "metadata": {
    "colab": {
     "base_uri": "https://localhost:8080/"
    },
    "id": "Jl7Uvn7oi9vk",
    "outputId": "1d046fff-9104-45bf-d936-8914f0269db1"
   },
   "outputs": [
    {
     "output_type": "stream",
     "name": "stdout",
     "text": [
      "Looking in indexes: https://pypi.org/simple, https://us-python.pkg.dev/colab-wheels/public/simple/\n",
      "Requirement already satisfied: xgboost in /usr/local/lib/python3.7/dist-packages (0.90)\n",
      "Requirement already satisfied: scipy in /usr/local/lib/python3.7/dist-packages (from xgboost) (1.7.3)\n",
      "Requirement already satisfied: numpy in /usr/local/lib/python3.7/dist-packages (from xgboost) (1.21.6)\n"
     ]
    }
   ],
   "source": [
    "!pip install xgboost"
   ]
  },
  {
   "cell_type": "code",
   "source": [
    "from google.colab import drive\n",
    "\n",
    "drive.mount('/content/gdrive/')"
   ],
   "metadata": {
    "colab": {
     "base_uri": "https://localhost:8080/"
    },
    "id": "-Wxvt4x2jLh3",
    "outputId": "98e5689c-577e-45b1-d4de-73d8ba89c916"
   },
   "execution_count": null,
   "outputs": [
    {
     "output_type": "stream",
     "name": "stdout",
     "text": [
      "Mounted at /content/gdrive/\n"
     ]
    }
   ]
  },
  {
   "cell_type": "code",
   "source": [
    "! gdown --id 1cIIZv-ybWUpO49GxaNtijm14-LRA_lCj"
   ],
   "metadata": {
    "colab": {
     "base_uri": "https://localhost:8080/"
    },
    "id": "jMWIgcOYjZZ3",
    "outputId": "1d32dcd2-8fa9-444c-d691-0fe8d7fa0eea"
   },
   "execution_count": null,
   "outputs": [
    {
     "output_type": "stream",
     "name": "stdout",
     "text": [
      "/usr/local/lib/python3.7/dist-packages/gdown/cli.py:131: FutureWarning: Option `--id` was deprecated in version 4.3.1 and will be removed in 5.0. You don't need to pass it anymore to use a file ID.\n",
      "  category=FutureWarning,\n",
      "Downloading...\n",
      "From: https://drive.google.com/uc?id=1cIIZv-ybWUpO49GxaNtijm14-LRA_lCj\n",
      "To: /content/dataset_to_competition.csv\n",
      "100% 588M/588M [00:07<00:00, 81.2MB/s]\n"
     ]
    }
   ]
  },
  {
   "cell_type": "code",
   "source": [
    "import matplotlib.pyplot as plt\n",
    "import seaborn as sns\n",
    "import pandas as pd\n",
    "import numpy as np"
   ],
   "metadata": {
    "id": "UN0NS4hnjfSe"
   },
   "execution_count": null,
   "outputs": []
  },
  {
   "cell_type": "code",
   "source": [
    "df = pd.read_csv('/content/dataset_to_competition.csv')\n",
    "df.head()"
   ],
   "metadata": {
    "colab": {
     "base_uri": "https://localhost:8080/",
     "height": 236
    },
    "id": "6Mm9otJvjko6",
    "outputId": "4efb97a4-86ab-4198-b770-6b6bf5f4f851"
   },
   "execution_count": null,
   "outputs": [
    {
     "output_type": "execute_result",
     "data": {
      "text/plain": [
       "  activity  time_s   lw_x   lw_y   lw_z   lh_x   lh_y   lh_z   la_x   la_y  \\\n",
       "0  walking       0  0.086 -1.641  0.039  0.227 -1.102 -0.406  0.668  0.023   \n",
       "1  walking       1 -0.098 -1.188  0.180  0.602 -1.262  0.246 -0.449  2.824   \n",
       "2  walking       2  0.508 -1.063  0.035 -0.004 -0.707 -0.488  0.703  2.172   \n",
       "3  walking       3 -0.348 -1.488  0.504 -0.180 -0.816 -0.410  0.270  0.914   \n",
       "4  walking       4 -0.059 -1.066  0.395  0.090 -0.941 -0.258  0.070  0.984   \n",
       "\n",
       "   ...   ra_x   ra_y   ra_z  subj_id  gender age  height_in  weight_lbs  \\\n",
       "0  ... -0.117  1.117  0.266        0  female  33         63         143   \n",
       "1  ... -0.137  1.051  0.207        0  female  33         63         143   \n",
       "2  ...  0.129  1.699  0.449        0  female  33         63         143   \n",
       "3  ... -0.512  2.266  1.410        0  female  33         63         143   \n",
       "4  ... -0.633  0.844  0.074        0  female  33         63         143   \n",
       "\n",
       "    race right_handed  \n",
       "0  asian            0  \n",
       "1  asian            0  \n",
       "2  asian            0  \n",
       "3  asian            0  \n",
       "4  asian            0  \n",
       "\n",
       "[5 rows x 21 columns]"
      ],
      "text/html": [
       "\n",
       "  <div id=\"df-46cc11e2-5bed-4c75-bc1c-ed3e2132bb3e\">\n",
       "    <div class=\"colab-df-container\">\n",
       "      <div>\n",
       "<style scoped>\n",
       "    .dataframe tbody tr th:only-of-type {\n",
       "        vertical-align: middle;\n",
       "    }\n",
       "\n",
       "    .dataframe tbody tr th {\n",
       "        vertical-align: top;\n",
       "    }\n",
       "\n",
       "    .dataframe thead th {\n",
       "        text-align: right;\n",
       "    }\n",
       "</style>\n",
       "<table border=\"1\" class=\"dataframe\">\n",
       "  <thead>\n",
       "    <tr style=\"text-align: right;\">\n",
       "      <th></th>\n",
       "      <th>activity</th>\n",
       "      <th>time_s</th>\n",
       "      <th>lw_x</th>\n",
       "      <th>lw_y</th>\n",
       "      <th>lw_z</th>\n",
       "      <th>lh_x</th>\n",
       "      <th>lh_y</th>\n",
       "      <th>lh_z</th>\n",
       "      <th>la_x</th>\n",
       "      <th>la_y</th>\n",
       "      <th>...</th>\n",
       "      <th>ra_x</th>\n",
       "      <th>ra_y</th>\n",
       "      <th>ra_z</th>\n",
       "      <th>subj_id</th>\n",
       "      <th>gender</th>\n",
       "      <th>age</th>\n",
       "      <th>height_in</th>\n",
       "      <th>weight_lbs</th>\n",
       "      <th>race</th>\n",
       "      <th>right_handed</th>\n",
       "    </tr>\n",
       "  </thead>\n",
       "  <tbody>\n",
       "    <tr>\n",
       "      <th>0</th>\n",
       "      <td>walking</td>\n",
       "      <td>0</td>\n",
       "      <td>0.086</td>\n",
       "      <td>-1.641</td>\n",
       "      <td>0.039</td>\n",
       "      <td>0.227</td>\n",
       "      <td>-1.102</td>\n",
       "      <td>-0.406</td>\n",
       "      <td>0.668</td>\n",
       "      <td>0.023</td>\n",
       "      <td>...</td>\n",
       "      <td>-0.117</td>\n",
       "      <td>1.117</td>\n",
       "      <td>0.266</td>\n",
       "      <td>0</td>\n",
       "      <td>female</td>\n",
       "      <td>33</td>\n",
       "      <td>63</td>\n",
       "      <td>143</td>\n",
       "      <td>asian</td>\n",
       "      <td>0</td>\n",
       "    </tr>\n",
       "    <tr>\n",
       "      <th>1</th>\n",
       "      <td>walking</td>\n",
       "      <td>1</td>\n",
       "      <td>-0.098</td>\n",
       "      <td>-1.188</td>\n",
       "      <td>0.180</td>\n",
       "      <td>0.602</td>\n",
       "      <td>-1.262</td>\n",
       "      <td>0.246</td>\n",
       "      <td>-0.449</td>\n",
       "      <td>2.824</td>\n",
       "      <td>...</td>\n",
       "      <td>-0.137</td>\n",
       "      <td>1.051</td>\n",
       "      <td>0.207</td>\n",
       "      <td>0</td>\n",
       "      <td>female</td>\n",
       "      <td>33</td>\n",
       "      <td>63</td>\n",
       "      <td>143</td>\n",
       "      <td>asian</td>\n",
       "      <td>0</td>\n",
       "    </tr>\n",
       "    <tr>\n",
       "      <th>2</th>\n",
       "      <td>walking</td>\n",
       "      <td>2</td>\n",
       "      <td>0.508</td>\n",
       "      <td>-1.063</td>\n",
       "      <td>0.035</td>\n",
       "      <td>-0.004</td>\n",
       "      <td>-0.707</td>\n",
       "      <td>-0.488</td>\n",
       "      <td>0.703</td>\n",
       "      <td>2.172</td>\n",
       "      <td>...</td>\n",
       "      <td>0.129</td>\n",
       "      <td>1.699</td>\n",
       "      <td>0.449</td>\n",
       "      <td>0</td>\n",
       "      <td>female</td>\n",
       "      <td>33</td>\n",
       "      <td>63</td>\n",
       "      <td>143</td>\n",
       "      <td>asian</td>\n",
       "      <td>0</td>\n",
       "    </tr>\n",
       "    <tr>\n",
       "      <th>3</th>\n",
       "      <td>walking</td>\n",
       "      <td>3</td>\n",
       "      <td>-0.348</td>\n",
       "      <td>-1.488</td>\n",
       "      <td>0.504</td>\n",
       "      <td>-0.180</td>\n",
       "      <td>-0.816</td>\n",
       "      <td>-0.410</td>\n",
       "      <td>0.270</td>\n",
       "      <td>0.914</td>\n",
       "      <td>...</td>\n",
       "      <td>-0.512</td>\n",
       "      <td>2.266</td>\n",
       "      <td>1.410</td>\n",
       "      <td>0</td>\n",
       "      <td>female</td>\n",
       "      <td>33</td>\n",
       "      <td>63</td>\n",
       "      <td>143</td>\n",
       "      <td>asian</td>\n",
       "      <td>0</td>\n",
       "    </tr>\n",
       "    <tr>\n",
       "      <th>4</th>\n",
       "      <td>walking</td>\n",
       "      <td>4</td>\n",
       "      <td>-0.059</td>\n",
       "      <td>-1.066</td>\n",
       "      <td>0.395</td>\n",
       "      <td>0.090</td>\n",
       "      <td>-0.941</td>\n",
       "      <td>-0.258</td>\n",
       "      <td>0.070</td>\n",
       "      <td>0.984</td>\n",
       "      <td>...</td>\n",
       "      <td>-0.633</td>\n",
       "      <td>0.844</td>\n",
       "      <td>0.074</td>\n",
       "      <td>0</td>\n",
       "      <td>female</td>\n",
       "      <td>33</td>\n",
       "      <td>63</td>\n",
       "      <td>143</td>\n",
       "      <td>asian</td>\n",
       "      <td>0</td>\n",
       "    </tr>\n",
       "  </tbody>\n",
       "</table>\n",
       "<p>5 rows × 21 columns</p>\n",
       "</div>\n",
       "      <button class=\"colab-df-convert\" onclick=\"convertToInteractive('df-46cc11e2-5bed-4c75-bc1c-ed3e2132bb3e')\"\n",
       "              title=\"Convert this dataframe to an interactive table.\"\n",
       "              style=\"display:none;\">\n",
       "        \n",
       "  <svg xmlns=\"http://www.w3.org/2000/svg\" height=\"24px\"viewBox=\"0 0 24 24\"\n",
       "       width=\"24px\">\n",
       "    <path d=\"M0 0h24v24H0V0z\" fill=\"none\"/>\n",
       "    <path d=\"M18.56 5.44l.94 2.06.94-2.06 2.06-.94-2.06-.94-.94-2.06-.94 2.06-2.06.94zm-11 1L8.5 8.5l.94-2.06 2.06-.94-2.06-.94L8.5 2.5l-.94 2.06-2.06.94zm10 10l.94 2.06.94-2.06 2.06-.94-2.06-.94-.94-2.06-.94 2.06-2.06.94z\"/><path d=\"M17.41 7.96l-1.37-1.37c-.4-.4-.92-.59-1.43-.59-.52 0-1.04.2-1.43.59L10.3 9.45l-7.72 7.72c-.78.78-.78 2.05 0 2.83L4 21.41c.39.39.9.59 1.41.59.51 0 1.02-.2 1.41-.59l7.78-7.78 2.81-2.81c.8-.78.8-2.07 0-2.86zM5.41 20L4 18.59l7.72-7.72 1.47 1.35L5.41 20z\"/>\n",
       "  </svg>\n",
       "      </button>\n",
       "      \n",
       "  <style>\n",
       "    .colab-df-container {\n",
       "      display:flex;\n",
       "      flex-wrap:wrap;\n",
       "      gap: 12px;\n",
       "    }\n",
       "\n",
       "    .colab-df-convert {\n",
       "      background-color: #E8F0FE;\n",
       "      border: none;\n",
       "      border-radius: 50%;\n",
       "      cursor: pointer;\n",
       "      display: none;\n",
       "      fill: #1967D2;\n",
       "      height: 32px;\n",
       "      padding: 0 0 0 0;\n",
       "      width: 32px;\n",
       "    }\n",
       "\n",
       "    .colab-df-convert:hover {\n",
       "      background-color: #E2EBFA;\n",
       "      box-shadow: 0px 1px 2px rgba(60, 64, 67, 0.3), 0px 1px 3px 1px rgba(60, 64, 67, 0.15);\n",
       "      fill: #174EA6;\n",
       "    }\n",
       "\n",
       "    [theme=dark] .colab-df-convert {\n",
       "      background-color: #3B4455;\n",
       "      fill: #D2E3FC;\n",
       "    }\n",
       "\n",
       "    [theme=dark] .colab-df-convert:hover {\n",
       "      background-color: #434B5C;\n",
       "      box-shadow: 0px 1px 3px 1px rgba(0, 0, 0, 0.15);\n",
       "      filter: drop-shadow(0px 1px 2px rgba(0, 0, 0, 0.3));\n",
       "      fill: #FFFFFF;\n",
       "    }\n",
       "  </style>\n",
       "\n",
       "      <script>\n",
       "        const buttonEl =\n",
       "          document.querySelector('#df-46cc11e2-5bed-4c75-bc1c-ed3e2132bb3e button.colab-df-convert');\n",
       "        buttonEl.style.display =\n",
       "          google.colab.kernel.accessAllowed ? 'block' : 'none';\n",
       "\n",
       "        async function convertToInteractive(key) {\n",
       "          const element = document.querySelector('#df-46cc11e2-5bed-4c75-bc1c-ed3e2132bb3e');\n",
       "          const dataTable =\n",
       "            await google.colab.kernel.invokeFunction('convertToInteractive',\n",
       "                                                     [key], {});\n",
       "          if (!dataTable) return;\n",
       "\n",
       "          const docLinkHtml = 'Like what you see? Visit the ' +\n",
       "            '<a target=\"_blank\" href=https://colab.research.google.com/notebooks/data_table.ipynb>data table notebook</a>'\n",
       "            + ' to learn more about interactive tables.';\n",
       "          element.innerHTML = '';\n",
       "          dataTable['output_type'] = 'display_data';\n",
       "          await google.colab.output.renderOutput(dataTable, element);\n",
       "          const docLink = document.createElement('div');\n",
       "          docLink.innerHTML = docLinkHtml;\n",
       "          element.appendChild(docLink);\n",
       "        }\n",
       "      </script>\n",
       "    </div>\n",
       "  </div>\n",
       "  "
      ]
     },
     "metadata": {},
     "execution_count": 7
    }
   ]
  },
  {
   "cell_type": "code",
   "source": [
    "df.describe()"
   ],
   "metadata": {
    "colab": {
     "base_uri": "https://localhost:8080/",
     "height": 300
    },
    "id": "BeelgAijjq8f",
    "outputId": "6492e3f6-f4ec-49c7-e639-f08f82e2cdbb"
   },
   "execution_count": null,
   "outputs": [
    {
     "output_type": "execute_result",
     "data": {
      "text/plain": [
       "             time_s          lw_x          lw_y          lw_z          lh_x  \\\n",
       "count  4.736149e+06  4.736149e+06  4.736149e+06  4.736149e+06  4.736149e+06   \n",
       "mean   1.321574e+04 -2.147233e-01 -4.256108e-01 -2.948040e-02  1.294206e-01   \n",
       "std    8.850157e+03  5.701432e-01  7.830487e-01  4.735368e-01  3.073945e-01   \n",
       "min    0.000000e+00 -5.273000e+00 -4.887000e+00 -2.332000e+00 -1.000000e+00   \n",
       "25%    5.920000e+03 -7.380000e-01 -1.148000e+00 -2.540000e-01 -7.000000e-02   \n",
       "50%    1.195500e+04 -1.560000e-01 -2.580000e-01  2.000000e-02  1.680000e-01   \n",
       "75%    1.937000e+04  2.070000e-01  3.400000e-01  2.700000e-01  2.930000e-01   \n",
       "max    4.416700e+04  2.414000e+00  1.852000e+00  3.566000e+00  2.023000e+00   \n",
       "\n",
       "               lh_y          lh_z          la_x          la_y          la_z  \\\n",
       "count  4.736149e+06  4.736149e+06  4.736149e+06  4.736149e+06  4.736149e+06   \n",
       "mean  -8.243793e-01 -4.270715e-01  1.132651e-01  1.047137e+00  2.461092e-01   \n",
       "std    3.481681e-01  2.589593e-01  7.351331e-01  6.220368e-01  3.664124e-01   \n",
       "min   -4.262000e+00 -1.797000e+00 -7.461000e+00 -3.492000e+00 -2.801000e+00   \n",
       "25%   -9.220000e-01 -6.600000e-01  3.100000e-02  7.420000e-01  7.800000e-02   \n",
       "50%   -8.440000e-01 -3.550000e-01  1.680000e-01  9.840000e-01  1.480000e-01   \n",
       "75%   -6.290000e-01 -2.850000e-01  3.830000e-01  1.148000e+00  3.590000e-01   \n",
       "max    1.926000e+00  1.660000e+00  4.445000e+00  5.352000e+00  5.184000e+00   \n",
       "\n",
       "               ra_x          ra_y          ra_z       subj_id           age  \\\n",
       "count  4.736149e+06  4.736149e+06  4.736149e+06  4.736149e+06  4.736149e+06   \n",
       "mean  -1.642669e-01  1.038636e+00  2.330902e-01  1.004584e+02  3.937033e+01   \n",
       "std    7.525868e-01  6.164298e-01  3.542113e-01  5.709381e+01  9.139544e+00   \n",
       "min   -6.305000e+00 -1.844000e+00 -3.957000e+00  0.000000e+00  1.700000e+01   \n",
       "25%   -6.210000e-01  6.680000e-01  6.600000e-02  5.200000e+01  3.300000e+01   \n",
       "50%   -1.560000e-01  1.004000e+00  1.600000e-01  1.010000e+02  3.900000e+01   \n",
       "75%   -4.300000e-02  1.129000e+00  2.890000e-01  1.490000e+02  4.800000e+01   \n",
       "max    7.551000e+00  6.074000e+00  5.305000e+00  1.990000e+02  6.100000e+01   \n",
       "\n",
       "          height_in    weight_lbs  right_handed  \n",
       "count  4.736149e+06  4.736149e+06  4.736149e+06  \n",
       "mean   6.820546e+01  1.703492e+02  8.861138e-01  \n",
       "std    4.639716e+00  5.490136e+01  3.176730e-01  \n",
       "min    5.800000e+01  8.200000e+01  0.000000e+00  \n",
       "25%    6.400000e+01  1.280000e+02  1.000000e+00  \n",
       "50%    6.900000e+01  1.540000e+02  1.000000e+00  \n",
       "75%    7.200000e+01  1.990000e+02  1.000000e+00  \n",
       "max    7.900000e+01  3.230000e+02  1.000000e+00  "
      ],
      "text/html": [
       "\n",
       "  <div id=\"df-45d72dba-1bbc-41cf-90d4-80b808f62a1a\">\n",
       "    <div class=\"colab-df-container\">\n",
       "      <div>\n",
       "<style scoped>\n",
       "    .dataframe tbody tr th:only-of-type {\n",
       "        vertical-align: middle;\n",
       "    }\n",
       "\n",
       "    .dataframe tbody tr th {\n",
       "        vertical-align: top;\n",
       "    }\n",
       "\n",
       "    .dataframe thead th {\n",
       "        text-align: right;\n",
       "    }\n",
       "</style>\n",
       "<table border=\"1\" class=\"dataframe\">\n",
       "  <thead>\n",
       "    <tr style=\"text-align: right;\">\n",
       "      <th></th>\n",
       "      <th>time_s</th>\n",
       "      <th>lw_x</th>\n",
       "      <th>lw_y</th>\n",
       "      <th>lw_z</th>\n",
       "      <th>lh_x</th>\n",
       "      <th>lh_y</th>\n",
       "      <th>lh_z</th>\n",
       "      <th>la_x</th>\n",
       "      <th>la_y</th>\n",
       "      <th>la_z</th>\n",
       "      <th>ra_x</th>\n",
       "      <th>ra_y</th>\n",
       "      <th>ra_z</th>\n",
       "      <th>subj_id</th>\n",
       "      <th>age</th>\n",
       "      <th>height_in</th>\n",
       "      <th>weight_lbs</th>\n",
       "      <th>right_handed</th>\n",
       "    </tr>\n",
       "  </thead>\n",
       "  <tbody>\n",
       "    <tr>\n",
       "      <th>count</th>\n",
       "      <td>4.736149e+06</td>\n",
       "      <td>4.736149e+06</td>\n",
       "      <td>4.736149e+06</td>\n",
       "      <td>4.736149e+06</td>\n",
       "      <td>4.736149e+06</td>\n",
       "      <td>4.736149e+06</td>\n",
       "      <td>4.736149e+06</td>\n",
       "      <td>4.736149e+06</td>\n",
       "      <td>4.736149e+06</td>\n",
       "      <td>4.736149e+06</td>\n",
       "      <td>4.736149e+06</td>\n",
       "      <td>4.736149e+06</td>\n",
       "      <td>4.736149e+06</td>\n",
       "      <td>4.736149e+06</td>\n",
       "      <td>4.736149e+06</td>\n",
       "      <td>4.736149e+06</td>\n",
       "      <td>4.736149e+06</td>\n",
       "      <td>4.736149e+06</td>\n",
       "    </tr>\n",
       "    <tr>\n",
       "      <th>mean</th>\n",
       "      <td>1.321574e+04</td>\n",
       "      <td>-2.147233e-01</td>\n",
       "      <td>-4.256108e-01</td>\n",
       "      <td>-2.948040e-02</td>\n",
       "      <td>1.294206e-01</td>\n",
       "      <td>-8.243793e-01</td>\n",
       "      <td>-4.270715e-01</td>\n",
       "      <td>1.132651e-01</td>\n",
       "      <td>1.047137e+00</td>\n",
       "      <td>2.461092e-01</td>\n",
       "      <td>-1.642669e-01</td>\n",
       "      <td>1.038636e+00</td>\n",
       "      <td>2.330902e-01</td>\n",
       "      <td>1.004584e+02</td>\n",
       "      <td>3.937033e+01</td>\n",
       "      <td>6.820546e+01</td>\n",
       "      <td>1.703492e+02</td>\n",
       "      <td>8.861138e-01</td>\n",
       "    </tr>\n",
       "    <tr>\n",
       "      <th>std</th>\n",
       "      <td>8.850157e+03</td>\n",
       "      <td>5.701432e-01</td>\n",
       "      <td>7.830487e-01</td>\n",
       "      <td>4.735368e-01</td>\n",
       "      <td>3.073945e-01</td>\n",
       "      <td>3.481681e-01</td>\n",
       "      <td>2.589593e-01</td>\n",
       "      <td>7.351331e-01</td>\n",
       "      <td>6.220368e-01</td>\n",
       "      <td>3.664124e-01</td>\n",
       "      <td>7.525868e-01</td>\n",
       "      <td>6.164298e-01</td>\n",
       "      <td>3.542113e-01</td>\n",
       "      <td>5.709381e+01</td>\n",
       "      <td>9.139544e+00</td>\n",
       "      <td>4.639716e+00</td>\n",
       "      <td>5.490136e+01</td>\n",
       "      <td>3.176730e-01</td>\n",
       "    </tr>\n",
       "    <tr>\n",
       "      <th>min</th>\n",
       "      <td>0.000000e+00</td>\n",
       "      <td>-5.273000e+00</td>\n",
       "      <td>-4.887000e+00</td>\n",
       "      <td>-2.332000e+00</td>\n",
       "      <td>-1.000000e+00</td>\n",
       "      <td>-4.262000e+00</td>\n",
       "      <td>-1.797000e+00</td>\n",
       "      <td>-7.461000e+00</td>\n",
       "      <td>-3.492000e+00</td>\n",
       "      <td>-2.801000e+00</td>\n",
       "      <td>-6.305000e+00</td>\n",
       "      <td>-1.844000e+00</td>\n",
       "      <td>-3.957000e+00</td>\n",
       "      <td>0.000000e+00</td>\n",
       "      <td>1.700000e+01</td>\n",
       "      <td>5.800000e+01</td>\n",
       "      <td>8.200000e+01</td>\n",
       "      <td>0.000000e+00</td>\n",
       "    </tr>\n",
       "    <tr>\n",
       "      <th>25%</th>\n",
       "      <td>5.920000e+03</td>\n",
       "      <td>-7.380000e-01</td>\n",
       "      <td>-1.148000e+00</td>\n",
       "      <td>-2.540000e-01</td>\n",
       "      <td>-7.000000e-02</td>\n",
       "      <td>-9.220000e-01</td>\n",
       "      <td>-6.600000e-01</td>\n",
       "      <td>3.100000e-02</td>\n",
       "      <td>7.420000e-01</td>\n",
       "      <td>7.800000e-02</td>\n",
       "      <td>-6.210000e-01</td>\n",
       "      <td>6.680000e-01</td>\n",
       "      <td>6.600000e-02</td>\n",
       "      <td>5.200000e+01</td>\n",
       "      <td>3.300000e+01</td>\n",
       "      <td>6.400000e+01</td>\n",
       "      <td>1.280000e+02</td>\n",
       "      <td>1.000000e+00</td>\n",
       "    </tr>\n",
       "    <tr>\n",
       "      <th>50%</th>\n",
       "      <td>1.195500e+04</td>\n",
       "      <td>-1.560000e-01</td>\n",
       "      <td>-2.580000e-01</td>\n",
       "      <td>2.000000e-02</td>\n",
       "      <td>1.680000e-01</td>\n",
       "      <td>-8.440000e-01</td>\n",
       "      <td>-3.550000e-01</td>\n",
       "      <td>1.680000e-01</td>\n",
       "      <td>9.840000e-01</td>\n",
       "      <td>1.480000e-01</td>\n",
       "      <td>-1.560000e-01</td>\n",
       "      <td>1.004000e+00</td>\n",
       "      <td>1.600000e-01</td>\n",
       "      <td>1.010000e+02</td>\n",
       "      <td>3.900000e+01</td>\n",
       "      <td>6.900000e+01</td>\n",
       "      <td>1.540000e+02</td>\n",
       "      <td>1.000000e+00</td>\n",
       "    </tr>\n",
       "    <tr>\n",
       "      <th>75%</th>\n",
       "      <td>1.937000e+04</td>\n",
       "      <td>2.070000e-01</td>\n",
       "      <td>3.400000e-01</td>\n",
       "      <td>2.700000e-01</td>\n",
       "      <td>2.930000e-01</td>\n",
       "      <td>-6.290000e-01</td>\n",
       "      <td>-2.850000e-01</td>\n",
       "      <td>3.830000e-01</td>\n",
       "      <td>1.148000e+00</td>\n",
       "      <td>3.590000e-01</td>\n",
       "      <td>-4.300000e-02</td>\n",
       "      <td>1.129000e+00</td>\n",
       "      <td>2.890000e-01</td>\n",
       "      <td>1.490000e+02</td>\n",
       "      <td>4.800000e+01</td>\n",
       "      <td>7.200000e+01</td>\n",
       "      <td>1.990000e+02</td>\n",
       "      <td>1.000000e+00</td>\n",
       "    </tr>\n",
       "    <tr>\n",
       "      <th>max</th>\n",
       "      <td>4.416700e+04</td>\n",
       "      <td>2.414000e+00</td>\n",
       "      <td>1.852000e+00</td>\n",
       "      <td>3.566000e+00</td>\n",
       "      <td>2.023000e+00</td>\n",
       "      <td>1.926000e+00</td>\n",
       "      <td>1.660000e+00</td>\n",
       "      <td>4.445000e+00</td>\n",
       "      <td>5.352000e+00</td>\n",
       "      <td>5.184000e+00</td>\n",
       "      <td>7.551000e+00</td>\n",
       "      <td>6.074000e+00</td>\n",
       "      <td>5.305000e+00</td>\n",
       "      <td>1.990000e+02</td>\n",
       "      <td>6.100000e+01</td>\n",
       "      <td>7.900000e+01</td>\n",
       "      <td>3.230000e+02</td>\n",
       "      <td>1.000000e+00</td>\n",
       "    </tr>\n",
       "  </tbody>\n",
       "</table>\n",
       "</div>\n",
       "      <button class=\"colab-df-convert\" onclick=\"convertToInteractive('df-45d72dba-1bbc-41cf-90d4-80b808f62a1a')\"\n",
       "              title=\"Convert this dataframe to an interactive table.\"\n",
       "              style=\"display:none;\">\n",
       "        \n",
       "  <svg xmlns=\"http://www.w3.org/2000/svg\" height=\"24px\"viewBox=\"0 0 24 24\"\n",
       "       width=\"24px\">\n",
       "    <path d=\"M0 0h24v24H0V0z\" fill=\"none\"/>\n",
       "    <path d=\"M18.56 5.44l.94 2.06.94-2.06 2.06-.94-2.06-.94-.94-2.06-.94 2.06-2.06.94zm-11 1L8.5 8.5l.94-2.06 2.06-.94-2.06-.94L8.5 2.5l-.94 2.06-2.06.94zm10 10l.94 2.06.94-2.06 2.06-.94-2.06-.94-.94-2.06-.94 2.06-2.06.94z\"/><path d=\"M17.41 7.96l-1.37-1.37c-.4-.4-.92-.59-1.43-.59-.52 0-1.04.2-1.43.59L10.3 9.45l-7.72 7.72c-.78.78-.78 2.05 0 2.83L4 21.41c.39.39.9.59 1.41.59.51 0 1.02-.2 1.41-.59l7.78-7.78 2.81-2.81c.8-.78.8-2.07 0-2.86zM5.41 20L4 18.59l7.72-7.72 1.47 1.35L5.41 20z\"/>\n",
       "  </svg>\n",
       "      </button>\n",
       "      \n",
       "  <style>\n",
       "    .colab-df-container {\n",
       "      display:flex;\n",
       "      flex-wrap:wrap;\n",
       "      gap: 12px;\n",
       "    }\n",
       "\n",
       "    .colab-df-convert {\n",
       "      background-color: #E8F0FE;\n",
       "      border: none;\n",
       "      border-radius: 50%;\n",
       "      cursor: pointer;\n",
       "      display: none;\n",
       "      fill: #1967D2;\n",
       "      height: 32px;\n",
       "      padding: 0 0 0 0;\n",
       "      width: 32px;\n",
       "    }\n",
       "\n",
       "    .colab-df-convert:hover {\n",
       "      background-color: #E2EBFA;\n",
       "      box-shadow: 0px 1px 2px rgba(60, 64, 67, 0.3), 0px 1px 3px 1px rgba(60, 64, 67, 0.15);\n",
       "      fill: #174EA6;\n",
       "    }\n",
       "\n",
       "    [theme=dark] .colab-df-convert {\n",
       "      background-color: #3B4455;\n",
       "      fill: #D2E3FC;\n",
       "    }\n",
       "\n",
       "    [theme=dark] .colab-df-convert:hover {\n",
       "      background-color: #434B5C;\n",
       "      box-shadow: 0px 1px 3px 1px rgba(0, 0, 0, 0.15);\n",
       "      filter: drop-shadow(0px 1px 2px rgba(0, 0, 0, 0.3));\n",
       "      fill: #FFFFFF;\n",
       "    }\n",
       "  </style>\n",
       "\n",
       "      <script>\n",
       "        const buttonEl =\n",
       "          document.querySelector('#df-45d72dba-1bbc-41cf-90d4-80b808f62a1a button.colab-df-convert');\n",
       "        buttonEl.style.display =\n",
       "          google.colab.kernel.accessAllowed ? 'block' : 'none';\n",
       "\n",
       "        async function convertToInteractive(key) {\n",
       "          const element = document.querySelector('#df-45d72dba-1bbc-41cf-90d4-80b808f62a1a');\n",
       "          const dataTable =\n",
       "            await google.colab.kernel.invokeFunction('convertToInteractive',\n",
       "                                                     [key], {});\n",
       "          if (!dataTable) return;\n",
       "\n",
       "          const docLinkHtml = 'Like what you see? Visit the ' +\n",
       "            '<a target=\"_blank\" href=https://colab.research.google.com/notebooks/data_table.ipynb>data table notebook</a>'\n",
       "            + ' to learn more about interactive tables.';\n",
       "          element.innerHTML = '';\n",
       "          dataTable['output_type'] = 'display_data';\n",
       "          await google.colab.output.renderOutput(dataTable, element);\n",
       "          const docLink = document.createElement('div');\n",
       "          docLink.innerHTML = docLinkHtml;\n",
       "          element.appendChild(docLink);\n",
       "        }\n",
       "      </script>\n",
       "    </div>\n",
       "  </div>\n",
       "  "
      ]
     },
     "metadata": {},
     "execution_count": 8
    }
   ]
  },
  {
   "cell_type": "code",
   "source": [
    "df.columns"
   ],
   "metadata": {
    "colab": {
     "base_uri": "https://localhost:8080/"
    },
    "id": "r9Fk9LnZjuAB",
    "outputId": "d7635bd6-a0d8-4c8e-eccf-0a10cf2e17b8"
   },
   "execution_count": null,
   "outputs": [
    {
     "output_type": "execute_result",
     "data": {
      "text/plain": [
       "Index(['activity', 'time_s', 'lw_x', 'lw_y', 'lw_z', 'lh_x', 'lh_y', 'lh_z',\n",
       "       'la_x', 'la_y', 'la_z', 'ra_x', 'ra_y', 'ra_z', 'subj_id', 'gender',\n",
       "       'age', 'height_in', 'weight_lbs', 'race', 'right_handed'],\n",
       "      dtype='object')"
      ]
     },
     "metadata": {},
     "execution_count": 9
    }
   ]
  },
  {
   "cell_type": "code",
   "source": [
    "import seaborn as sns\n",
    "plt.figure(figsize=(7,5))\n",
    "sns.heatmap(df.corr(),cmap='PRGn')\n",
    "\n",
    "plt.show()"
   ],
   "metadata": {
    "colab": {
     "base_uri": "https://localhost:8080/",
     "height": 380
    },
    "id": "e-3gD6GIjw7G",
    "outputId": "edb0894f-8a55-4450-cd90-3af7ccbb5ecc"
   },
   "execution_count": null,
   "outputs": [
    {
     "output_type": "display_data",
     "data": {
      "text/plain": [
       "<Figure size 504x360 with 2 Axes>"
      ],
      "image/png": "[encoded data removed]"
     },
     "metadata": {
      "needs_background": "light"
     }
    }
   ]
  },
  {
   "cell_type": "code",
   "source": [
    "X = df.drop(['activity'],axis=1)\n",
    "y = df['activity']"
   ],
   "metadata": {
    "id": "x0CeeYyqjzzp"
   },
   "execution_count": null,
   "outputs": []
  },
  {
   "cell_type": "code",
   "source": [
    "from sklearn.model_selection import train_test_split\n",
    "X_train, X_test, y_train, y_test = train_test_split(X, y, test_size=0.3, random_state=0)\n",
    "print(f'Размеры обучающего набора : {X_train.shape}, Размеры тестового набора : {X_test.shape}')"
   ],
   "metadata": {
    "colab": {
     "base_uri": "https://localhost:8080/"
    },
    "id": "UKxRiq0Dj1BD",
    "outputId": "839b5d9d-1289-4cac-ca93-64db3c2a8b57"
   },
   "execution_count": null,
   "outputs": [
    {
     "output_type": "stream",
     "name": "stdout",
     "text": [
      "Размеры обучающего набора : (3315304, 23), Размеры тестового набора : (1420845, 23)\n"
     ]
    }
   ]
  },
  {
   "cell_type": "code",
   "source": [
    "df = pd.concat([df, pd.get_dummies(df[['race', 'gender']])], axis=1)\n"
   ],
   "metadata": {
    "colab": {
     "base_uri": "https://localhost:8080/",
     "height": 312
    },
    "id": "OZlEOxlTj63A",
    "outputId": "903adde5-264c-4b6a-d172-583d62f0abad"
   },
   "execution_count": null,
   "outputs": [
    {
     "output_type": "error",
     "ename": "KeyError",
     "evalue": "ignored",
     "traceback": [
      "\u001B[0;31m---------------------------------------------------------------------------\u001B[0m",
      "\u001B[0;31mKeyError\u001B[0m                                  Traceback (most recent call last)",
      "\u001B[0;32m<ipython-input-40-a1d3610f0c15>\u001B[0m in \u001B[0;36m<module>\u001B[0;34m\u001B[0m\n\u001B[0;32m----> 1\u001B[0;31m \u001B[0mdf\u001B[0m \u001B[0;34m=\u001B[0m \u001B[0mpd\u001B[0m\u001B[0;34m.\u001B[0m\u001B[0mconcat\u001B[0m\u001B[0;34m(\u001B[0m\u001B[0;34m[\u001B[0m\u001B[0mdf\u001B[0m\u001B[0;34m,\u001B[0m \u001B[0mpd\u001B[0m\u001B[0;34m.\u001B[0m\u001B[0mget_dummies\u001B[0m\u001B[0;34m(\u001B[0m\u001B[0mdf\u001B[0m\u001B[0;34m[\u001B[0m\u001B[0;34m[\u001B[0m\u001B[0;34m'race'\u001B[0m\u001B[0;34m,\u001B[0m \u001B[0;34m'gender'\u001B[0m\u001B[0;34m]\u001B[0m\u001B[0;34m]\u001B[0m\u001B[0;34m)\u001B[0m\u001B[0;34m]\u001B[0m\u001B[0;34m,\u001B[0m \u001B[0maxis\u001B[0m\u001B[0;34m=\u001B[0m\u001B[0;36m1\u001B[0m\u001B[0;34m)\u001B[0m\u001B[0;34m\u001B[0m\u001B[0;34m\u001B[0m\u001B[0m\n\u001B[0m",
      "\u001B[0;32m/usr/local/lib/python3.7/dist-packages/pandas/core/frame.py\u001B[0m in \u001B[0;36m__getitem__\u001B[0;34m(self, key)\u001B[0m\n\u001B[1;32m   3462\u001B[0m             \u001B[0;32mif\u001B[0m \u001B[0mis_iterator\u001B[0m\u001B[0;34m(\u001B[0m\u001B[0mkey\u001B[0m\u001B[0;34m)\u001B[0m\u001B[0;34m:\u001B[0m\u001B[0;34m\u001B[0m\u001B[0;34m\u001B[0m\u001B[0m\n\u001B[1;32m   3463\u001B[0m                 \u001B[0mkey\u001B[0m \u001B[0;34m=\u001B[0m \u001B[0mlist\u001B[0m\u001B[0;34m(\u001B[0m\u001B[0mkey\u001B[0m\u001B[0;34m)\u001B[0m\u001B[0;34m\u001B[0m\u001B[0;34m\u001B[0m\u001B[0m\n\u001B[0;32m-> 3464\u001B[0;31m             \u001B[0mindexer\u001B[0m \u001B[0;34m=\u001B[0m \u001B[0mself\u001B[0m\u001B[0;34m.\u001B[0m\u001B[0mloc\u001B[0m\u001B[0;34m.\u001B[0m\u001B[0m_get_listlike_indexer\u001B[0m\u001B[0;34m(\u001B[0m\u001B[0mkey\u001B[0m\u001B[0;34m,\u001B[0m \u001B[0maxis\u001B[0m\u001B[0;34m=\u001B[0m\u001B[0;36m1\u001B[0m\u001B[0;34m)\u001B[0m\u001B[0;34m[\u001B[0m\u001B[0;36m1\u001B[0m\u001B[0;34m]\u001B[0m\u001B[0;34m\u001B[0m\u001B[0;34m\u001B[0m\u001B[0m\n\u001B[0m\u001B[1;32m   3465\u001B[0m \u001B[0;34m\u001B[0m\u001B[0m\n\u001B[1;32m   3466\u001B[0m         \u001B[0;31m# take() does not accept boolean indexers\u001B[0m\u001B[0;34m\u001B[0m\u001B[0;34m\u001B[0m\u001B[0;34m\u001B[0m\u001B[0m\n",
      "\u001B[0;32m/usr/local/lib/python3.7/dist-packages/pandas/core/indexing.py\u001B[0m in \u001B[0;36m_get_listlike_indexer\u001B[0;34m(self, key, axis)\u001B[0m\n\u001B[1;32m   1312\u001B[0m             \u001B[0mkeyarr\u001B[0m\u001B[0;34m,\u001B[0m \u001B[0mindexer\u001B[0m\u001B[0;34m,\u001B[0m \u001B[0mnew_indexer\u001B[0m \u001B[0;34m=\u001B[0m \u001B[0max\u001B[0m\u001B[0;34m.\u001B[0m\u001B[0m_reindex_non_unique\u001B[0m\u001B[0;34m(\u001B[0m\u001B[0mkeyarr\u001B[0m\u001B[0;34m)\u001B[0m\u001B[0;34m\u001B[0m\u001B[0;34m\u001B[0m\u001B[0m\n\u001B[1;32m   1313\u001B[0m \u001B[0;34m\u001B[0m\u001B[0m\n\u001B[0;32m-> 1314\u001B[0;31m         \u001B[0mself\u001B[0m\u001B[0;34m.\u001B[0m\u001B[0m_validate_read_indexer\u001B[0m\u001B[0;34m(\u001B[0m\u001B[0mkeyarr\u001B[0m\u001B[0;34m,\u001B[0m \u001B[0mindexer\u001B[0m\u001B[0;34m,\u001B[0m \u001B[0maxis\u001B[0m\u001B[0;34m)\u001B[0m\u001B[0;34m\u001B[0m\u001B[0;34m\u001B[0m\u001B[0m\n\u001B[0m\u001B[1;32m   1315\u001B[0m \u001B[0;34m\u001B[0m\u001B[0m\n\u001B[1;32m   1316\u001B[0m         if needs_i8_conversion(ax.dtype) or isinstance(\n",
      "\u001B[0;32m/usr/local/lib/python3.7/dist-packages/pandas/core/indexing.py\u001B[0m in \u001B[0;36m_validate_read_indexer\u001B[0;34m(self, key, indexer, axis)\u001B[0m\n\u001B[1;32m   1372\u001B[0m                 \u001B[0;32mif\u001B[0m \u001B[0muse_interval_msg\u001B[0m\u001B[0;34m:\u001B[0m\u001B[0;34m\u001B[0m\u001B[0;34m\u001B[0m\u001B[0m\n\u001B[1;32m   1373\u001B[0m                     \u001B[0mkey\u001B[0m \u001B[0;34m=\u001B[0m \u001B[0mlist\u001B[0m\u001B[0;34m(\u001B[0m\u001B[0mkey\u001B[0m\u001B[0;34m)\u001B[0m\u001B[0;34m\u001B[0m\u001B[0;34m\u001B[0m\u001B[0m\n\u001B[0;32m-> 1374\u001B[0;31m                 \u001B[0;32mraise\u001B[0m \u001B[0mKeyError\u001B[0m\u001B[0;34m(\u001B[0m\u001B[0;34mf\"None of [{key}] are in the [{axis_name}]\"\u001B[0m\u001B[0;34m)\u001B[0m\u001B[0;34m\u001B[0m\u001B[0;34m\u001B[0m\u001B[0m\n\u001B[0m\u001B[1;32m   1375\u001B[0m \u001B[0;34m\u001B[0m\u001B[0m\n\u001B[1;32m   1376\u001B[0m             \u001B[0mnot_found\u001B[0m \u001B[0;34m=\u001B[0m \u001B[0mlist\u001B[0m\u001B[0;34m(\u001B[0m\u001B[0mensure_index\u001B[0m\u001B[0;34m(\u001B[0m\u001B[0mkey\u001B[0m\u001B[0;34m)\u001B[0m\u001B[0;34m[\u001B[0m\u001B[0mmissing_mask\u001B[0m\u001B[0;34m.\u001B[0m\u001B[0mnonzero\u001B[0m\u001B[0;34m(\u001B[0m\u001B[0;34m)\u001B[0m\u001B[0;34m[\u001B[0m\u001B[0;36m0\u001B[0m\u001B[0;34m]\u001B[0m\u001B[0;34m]\u001B[0m\u001B[0;34m.\u001B[0m\u001B[0munique\u001B[0m\u001B[0;34m(\u001B[0m\u001B[0;34m)\u001B[0m\u001B[0;34m)\u001B[0m\u001B[0;34m\u001B[0m\u001B[0;34m\u001B[0m\u001B[0m\n",
      "\u001B[0;31mKeyError\u001B[0m: \"None of [Index(['race', 'gender'], dtype='object')] are in the [columns]\""
     ]
    }
   ]
  },
  {
   "cell_type": "code",
   "source": [
    "df = df.drop(columns=['race','gender'])"
   ],
   "metadata": {
    "id": "7QSee-fSsTVV"
   },
   "execution_count": null,
   "outputs": []
  },
  {
   "cell_type": "code",
   "source": [
    "from sklearn.preprocessing import StandardScaler\n",
    "stdSc=StandardScaler()\n",
    "stdSc.fit(X)"
   ],
   "metadata": {
    "colab": {
     "base_uri": "https://localhost:8080/"
    },
    "id": "BR0arqP_kwxP",
    "outputId": "5cb89a62-108a-4da5-fe10-053eed01e057"
   },
   "execution_count": null,
   "outputs": [
    {
     "output_type": "execute_result",
     "data": {
      "text/plain": [
       "StandardScaler()"
      ]
     },
     "metadata": {},
     "execution_count": 43
    }
   ]
  },
  {
   "cell_type": "code",
   "source": [
    "X_train_std=stdSc.transform(X_train)\n",
    "X_test_std=stdSc.transform(X_test)"
   ],
   "metadata": {
    "id": "QJ-UrAsHtSYU"
   },
   "execution_count": null,
   "outputs": []
  },
  {
   "cell_type": "code",
   "source": [
    "from sklearn.ensemble import RandomForestClassifier\n",
    "from sklearn.metrics import r2_score\n",
    "from sklearn.metrics import accuracy_score\n",
    "from sklearn.metrics import mean_absolute_error\n",
    "rfModel = RandomForestClassifier(n_estimators=15)\n",
    "rfModel.fit(X_train, y_train)"
   ],
   "metadata": {
    "colab": {
     "base_uri": "https://localhost:8080/"
    },
    "id": "Mct12jXptogz",
    "outputId": "2049c839-6003-42f5-83ab-9ae2220e20e0"
   },
   "execution_count": null,
   "outputs": [
    {
     "output_type": "execute_result",
     "data": {
      "text/plain": [
       "RandomForestClassifier(n_estimators=15)"
      ]
     },
     "metadata": {},
     "execution_count": 45
    }
   ]
  },
  {
   "cell_type": "code",
   "source": [
    "y_pred_forest = rfModel.predict(X_test)\n",
    "print('Оценка модели на основе случайного леса:')\n",
    "print('Acc: ',round(accuracy_score(y_test,y_pred_forest),2))\n"
   ],
   "metadata": {
    "colab": {
     "base_uri": "https://localhost:8080/"
    },
    "id": "2qSdpzJttuYD",
    "outputId": "2fcf2ccf-88fe-4e4b-fb2e-b7583a7b37bd"
   },
   "execution_count": null,
   "outputs": [
    {
     "output_type": "stream",
     "name": "stdout",
     "text": [
      "Оценка модели на основе случайного леса:\n",
      "Acc:  1.0\n"
     ]
    }
   ]
  },
  {
   "cell_type": "code",
   "source": [
    "feature_importances_forest = pd.DataFrame(rfModel.feature_importances_,index = X.columns,\n",
    "columns=['Важность признаков: Случайный лес']).sort_values('Важность признаков: Случайный лес',ascending=True)\n",
    "feature_importances_forest.plot.barh(figsize=(6, 3))"
   ],
   "metadata": {
    "colab": {
     "base_uri": "https://localhost:8080/",
     "height": 228
    },
    "id": "2_Oi4WaatxJd",
    "outputId": "81fb7cb1-690f-4c17-bb26-10af998f043b"
   },
   "execution_count": null,
   "outputs": [
    {
     "output_type": "execute_result",
     "data": {
      "text/plain": [
       "<matplotlib.axes._subplots.AxesSubplot at 0x7ff10fda15d0>"
      ]
     },
     "metadata": {},
     "execution_count": 49
    },
    {
     "output_type": "display_data",
     "data": {
      "text/plain": [
       "<Figure size 432x216 with 1 Axes>"
      ],
      "image/png": "[encoded data removed]"
     },
     "metadata": {
      "needs_background": "light"
     }
    }
   ]
  },
  {
   "cell_type": "code",
   "source": [
    "%%bash\n",
    "pip install pytelegrambotapi\n",
    "pip install emoji"
   ],
   "metadata": {
    "colab": {
     "base_uri": "https://localhost:8080/"
    },
    "id": "DE6nsjYzycjc",
    "outputId": "ed80cec3-b3b0-475e-97a1-b002cd6c5494"
   },
   "execution_count": null,
   "outputs": [
    {
     "output_type": "stream",
     "name": "stdout",
     "text": [
      "Looking in indexes: https://pypi.org/simple, https://us-python.pkg.dev/colab-wheels/public/simple/\n",
      "Collecting pytelegrambotapi\n",
      "  Downloading pyTelegramBotAPI-4.7.1.tar.gz (213 kB)\n",
      "Requirement already satisfied: requests in /usr/local/lib/python3.7/dist-packages (from pytelegrambotapi) (2.23.0)\n",
      "Requirement already satisfied: chardet<4,>=3.0.2 in /usr/local/lib/python3.7/dist-packages (from requests->pytelegrambotapi) (3.0.4)\n",
      "Requirement already satisfied: urllib3!=1.25.0,!=1.25.1,<1.26,>=1.21.1 in /usr/local/lib/python3.7/dist-packages (from requests->pytelegrambotapi) (1.24.3)\n",
      "Requirement already satisfied: certifi>=2017.4.17 in /usr/local/lib/python3.7/dist-packages (from requests->pytelegrambotapi) (2022.9.24)\n",
      "Requirement already satisfied: idna<3,>=2.5 in /usr/local/lib/python3.7/dist-packages (from requests->pytelegrambotapi) (2.10)\n",
      "Building wheels for collected packages: pytelegrambotapi\n",
      "  Building wheel for pytelegrambotapi (setup.py): started\n",
      "  Building wheel for pytelegrambotapi (setup.py): finished with status 'done'\n",
      "  Created wheel for pytelegrambotapi: filename=pyTelegramBotAPI-4.7.1-py3-none-any.whl size=196988 sha256=fb9874255b3a5825343824cffa995d8a20145c6e59077e753aa0c0d96966e132\n",
      "  Stored in directory: /root/.cache/pip/wheels/84/72/5f/8a7b3ca1ef1250002cf3bac48e0c72c5ee5c9596a5b1295dc1\n",
      "Successfully built pytelegrambotapi\n",
      "Installing collected packages: pytelegrambotapi\n",
      "Successfully installed pytelegrambotapi-4.7.1\n",
      "Looking in indexes: https://pypi.org/simple, https://us-python.pkg.dev/colab-wheels/public/simple/\n",
      "Collecting emoji\n",
      "  Downloading emoji-2.2.0.tar.gz (240 kB)\n",
      "Building wheels for collected packages: emoji\n",
      "  Building wheel for emoji (setup.py): started\n",
      "  Building wheel for emoji (setup.py): finished with status 'done'\n",
      "  Created wheel for emoji: filename=emoji-2.2.0-py3-none-any.whl size=234927 sha256=d8355ff7dfc9230f5453c6bf8f0efd6b27bffe10300d8882bc73db37079cf02e\n",
      "  Stored in directory: /root/.cache/pip/wheels/f3/e3/f2/1de1c2e3ed742e1df73e0f15d58864e50c7e64f607b548d6cf\n",
      "Successfully built emoji\n",
      "Installing collected packages: emoji\n",
      "Successfully installed emoji-2.2.0\n"
     ]
    }
   ]
  },
  {
   "cell_type": "code",
   "source": [
    "import warnings\n",
    "import pickle\n",
    "warnings.filterwarnings('ignore')"
   ],
   "metadata": {
    "id": "Zs_od_6nyk10"
   },
   "execution_count": null,
   "outputs": []
  },
  {
   "cell_type": "code",
   "source": [
    "TELEGRAM_API_TOKEN = '5546766259:AAFFkhSzug6_rQf-Tsd0YowhT4M4PI8yYWQ'\n",
    "import telebot\n",
    "from telebot import types\n",
    "\n",
    "bot = telebot.TeleBot(TELEGRAM_API_TOKEN)"
   ],
   "metadata": {
    "id": "8LXZIUeUy4vK"
   },
   "execution_count": null,
   "outputs": []
  },
  {
   "cell_type": "code",
   "source": [
    "@bot.message_handler(content_types=['text'])\n",
    "def get_text_message(message):\n",
    "  if message.text == '/start':\n",
    "    bot.send_message(message.from_user.id,'Введите ваши данные!')\n",
    "    bot.send_message(message.from_user.id, 'Введите х левого запястья')\n",
    "    bot.register_next_step_handler(message, get_lwx )\n",
    "  else:\n",
    "    bot.send_message(message.from_user.id,'Ввведите команду /start')\n",
    "    \n",
    "def get_lwx(message):\n",
    "    global lw_x\n",
    "    lw_x = message.text\n",
    "    lw_x = float(message.text)\n",
    "    bot.send_message(message.from_user.id, 'Введите y левого запястья')\n",
    "    bot.register_next_step_handler(message, get_lwy)\n",
    "\n",
    "\n",
    "def get_lwy(message):\n",
    "    global lw_y\n",
    "    lw_y = message.text\n",
    "    lw_y = float(message.text)\n",
    "    bot.send_message(message.from_user.id, 'Введите z левого запястья')\n",
    "    bot.register_next_step_handler(message, get_lwz)\n",
    "\n",
    "def get_lwz(message):\n",
    "    global lw_z\n",
    "    lw_z = message.text\n",
    "    lw_z = float(message.text)\n",
    "    bot.send_message(message.from_user.id, 'Введите x левого бедра')\n",
    "    bot.register_next_step_handler(message, get_lhx)\n",
    "\n",
    "def get_lhx(message):\n",
    "    global lh_x\n",
    "    lh_x = message.text\n",
    "    lh_x = float(message.text)\n",
    "    bot.send_message(message.from_user.id, 'Введите y левого бедра')\n",
    "    bot.register_next_step_handler(message, get_lhy)\n",
    "\n",
    "def get_lhy(message):\n",
    "    global lh_y\n",
    "    lh_y= message.text\n",
    "    lh_y = float(message.text)\n",
    "    bot.send_message(message.from_user.id, 'Введите z левого бедра')\n",
    "    bot.register_next_step_handler(message, get_lhz)\n",
    "\n",
    "\n",
    "def get_lhz(message):\n",
    "    global lh_z\n",
    "    lh_z= message.text\n",
    "    lh_z = float(message.text)\n",
    "    bot.send_message(message.from_user.id, 'Введите x левой лодыжки')\n",
    "    bot.register_next_step_handler(message, get_lax)\n",
    "\n",
    "def get_lax(message):\n",
    "    global la_x\n",
    "    la_x= message.text\n",
    "    la_x = float(message.text)\n",
    "    bot.send_message(message.from_user.id, 'Введите y левой лодыжки')\n",
    "    bot.register_next_step_handler(message, get_lay)\n",
    "\n",
    "def get_lay(message):\n",
    "    global la_y\n",
    "    la_y= message.text\n",
    "    la_y = float(message.text)\n",
    "    bot.send_message(message.from_user.id, 'Введите z левой лодыжки')\n",
    "    bot.register_next_step_handler(message, get_laz)\n",
    "\n",
    "def get_laz(message):\n",
    "    global la_z\n",
    "    la_z= message.text\n",
    "    la_z = float(message.text)\n",
    "    bot.send_message(message.from_user.id, 'Введите x правой лодыжки')\n",
    "    bot.register_next_step_handler(message, get_rax_)\n",
    "\n",
    "\n",
    "\n",
    "def get_rax(message):\n",
    "    global ra_x\n",
    "    ra_x= message.text\n",
    "    ra_x = float(message.text)\n",
    "    bot.send_message(message.from_user.id, 'Введите y правой лодыжки')\n",
    "    bot.register_next_step_handler(message, get_ray)\n",
    "\n",
    "\n",
    "def get_ray(message):\n",
    "    global la_x\n",
    "    la_x= message.text\n",
    "    la_x = float(message.text)\n",
    "    bot.send_message(message.from_user.id, 'Введите z правой лодыжки')\n",
    "    bot.register_next_step_handler(message, get_raz)\n",
    "\n",
    "def get_raz(message):\n",
    "    global ra_z\n",
    "    ra_z= message.text\n",
    "    ra_z = float(message.text)\n",
    "    bot.send_message(message.from_user.id, 'Введите Id участника')\n",
    "    bot.register_next_step_handler(message, get_id)\n",
    "\n",
    "\n",
    "def get_id(message):\n",
    "    global id\n",
    "    id = message.text\n",
    "    bot.send_message(message.from_user.id, 'Введите пол')\n",
    "    bot.register_next_step_handler(message, get_gender)\n",
    "\n"
   ],
   "metadata": {
    "id": "TovYW_lszEI7"
   },
   "execution_count": null,
   "outputs": []
  }
 ]
}
